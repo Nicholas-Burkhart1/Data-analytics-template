{
 "cells": [
  {
   "cell_type": "markdown",
   "id": "f29715a1-a880-466f-90e2-868bfea672f8",
   "metadata": {},
   "source": [
    "## Project name"
   ]
  },
  {
   "cell_type": "markdown",
   "id": "519668b0-3b22-4ced-aba2-65122d6732a9",
   "metadata": {},
   "source": [
    "**Author:** Nicholas Burkhart  \n",
    "**Last Modified:** 11-17-2024 {Created: 11-13-2024}\n",
    "\n",
    "**Description:** Short paragraph explaining this project"
   ]
  },
  {
   "cell_type": "markdown",
   "id": "1908e766-21a9-4c1a-a593-dcab2ed71122",
   "metadata": {},
   "source": [
    "<br>"
   ]
  },
  {
   "cell_type": "markdown",
   "id": "a187596d-9893-4c99-9955-018528135c9a",
   "metadata": {},
   "source": [
    "Import Libraries:"
   ]
  },
  {
   "cell_type": "code",
   "execution_count": 6,
   "id": "5f8e7df1-b441-4041-940f-49876ae337a4",
   "metadata": {},
   "outputs": [],
   "source": [
    "import pandas as pd"
   ]
  },
  {
   "cell_type": "markdown",
   "id": "6dc9b769-9094-4a9e-a946-597f1a888e53",
   "metadata": {},
   "source": [
    "<br>"
   ]
  },
  {
   "cell_type": "markdown",
   "id": "4eac3fa4-4d6b-4eb6-a411-590e82fcdf5b",
   "metadata": {},
   "source": [
    "Load Data:"
   ]
  },
  {
   "cell_type": "code",
   "execution_count": 11,
   "id": "52a95da4-9d1f-4332-9ddb-60e9ceb0e2f8",
   "metadata": {},
   "outputs": [],
   "source": [
    "#Code to read file"
   ]
  },
  {
   "cell_type": "code",
   "execution_count": null,
   "id": "77c05f95-8233-4722-92aa-5fcc5fc42a94",
   "metadata": {},
   "outputs": [],
   "source": []
  }
 ],
 "metadata": {
  "kernelspec": {
   "display_name": "Python 3 (ipykernel)",
   "language": "python",
   "name": "python3"
  },
  "language_info": {
   "codemirror_mode": {
    "name": "ipython",
    "version": 3
   },
   "file_extension": ".py",
   "mimetype": "text/x-python",
   "name": "python",
   "nbconvert_exporter": "python",
   "pygments_lexer": "ipython3",
   "version": "3.12.3"
  }
 },
 "nbformat": 4,
 "nbformat_minor": 5
}
